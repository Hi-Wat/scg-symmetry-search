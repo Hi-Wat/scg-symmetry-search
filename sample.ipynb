{
 "cells": [
  {
   "cell_type": "markdown",
   "metadata": {},
   "source": [
    "# sample for scg-symmetry-search\n",
    "\n",
    "Set the JupyterNotebook kernel by Julia interpreter and execute the following "
   ]
  },
  {
   "cell_type": "code",
   "execution_count": 97,
   "metadata": {},
   "outputs": [
    {
     "name": "stderr",
     "output_type": "stream",
     "text": [
      "WARNING: replacing module Mcifparse.\n"
     ]
    },
    {
     "data": {
      "text/plain": [
       "Main.Mcifparse"
      ]
     },
     "execution_count": 97,
     "metadata": {},
     "output_type": "execute_result"
    }
   ],
   "source": [
    "using PyCall \n",
    "PyCall.python # \"~/bin/python3\" (python interpreter importing spglib, spinspg, and sympy)\n",
    "include(\"./core/mcifparse.jl\")"
   ]
  },
  {
   "cell_type": "markdown",
   "metadata": {},
   "source": [
    "# Symmetry analysis based on spin space and Shubnikov (magnetic space) group"
   ]
  },
  {
   "cell_type": "markdown",
   "metadata": {},
   "source": [
    "Please prepare `.mcif` file such as provided in MAGNDATA (http://webbdcrista1.ehu.es/magndata/),\n",
    "and refer to the file by `magname`\n",
    "\n",
    "\n",
    "- In SOC-free case, please get symdat by `Mcifparse.get_spinspacegroup`.\n",
    "- In SOC-coupled case, please get symdat by `Mcifparse.get_shubnikovgroup`.\n",
    "\n",
    "To check the usage, we recommend to look into the case of CoTa3S6.\n"
   ]
  },
  {
   "cell_type": "markdown",
   "metadata": {},
   "source": [
    "## CoTa3S6 / CoNb3S6 : noncoplanar magnet"
   ]
  },
  {
   "cell_type": "code",
   "execution_count": 78,
   "metadata": {},
   "outputs": [
    {
     "data": {
      "text/plain": [
       "(Main.Mcifparse.Compute.SpinspaceOperation[Main.Mcifparse.Compute.SpinspaceOperation(\"\", [1.0 0.0 0.0; 0.0 1.0 0.0; 0.0 0.0 1.0], [0.0, 0.0, 0.0], [1.0 0.0 0.0; 0.0 1.0 0.0; 0.0 0.0 1.0]), Main.Mcifparse.Compute.SpinspaceOperation(\"\", [1.0 0.0 0.0; 0.0 1.0 0.0; 0.0 0.0 1.0], [0.24999999990868155, 0.43301270586284324, 5.891277845354972e-17], [1.0323780655509868e-14 -0.5773502677119139 0.816496581972626; -0.5773502677119136 -0.6666666683729853 -0.47140452018775336; 0.8164965819726261 -0.47140452018775364 -0.3333333316270253]), Main.Mcifparse.Compute.SpinspaceOperation(\"\", [1.0 0.0 0.0; 0.0 1.0 0.0; 0.0 0.0 1.0], [0.5, 0.0, 2.945638881623285e-17], [-1.0 -1.7769008004369317e-9 -1.256458950307358e-9; -1.7769011273523564e-9 0.3333333346941755 0.9428090411009333; -1.256458487979129e-9 0.9428090411009332 -0.3333333346941752]), Main.Mcifparse.Compute.SpinspaceOperation(\"\", [1.0 0.0 0.0; 0.0 1.0 0.0; 0.0 0.0 1.0], [-0.25000000009131845, 0.43301270586284324, 2.945638963731686e-17], [1.0800697511643331e-14 0.5773502694888146 -0.8164965807161674; 0.5773502694888146 -0.6666666663211968 -0.4714045209131699; -0.8164965807161677 -0.47140452091316976 -0.333333333678814]), Main.Mcifparse.Compute.SpinspaceOperation(\"\", [0.4999999998173631 -0.8660253958431909 0.0; 0.8660254117256865 0.500000000182637 0.0; 5.891277927463373e-17 -1.0203992407443795e-16 1.0], [0.9999994999999999, 0.0, 0.5000000000000001], [-0.5000000000000078 0.8660254037844345 -1.5673437098421252e-9; -0.8660254037844342 -0.5000000000000079 5.384688815866097e-10; -3.173441242648401e-10 1.626593907551465e-9 1.0000000000000002]), Main.Mcifparse.Compute.SpinspaceOperation(\"\", [0.4999999998173631 -0.8660253958431909 0.0; 0.8660254117256865 0.500000000182637 0.0; 5.891277927463373e-17 -1.0203992407443795e-16 1.0], [0.24999949990868148, 0.43301270586284324, 0.5000000000000001], [0.49999999846114584 0.2886751351840788 0.816496581661741; 0.8660254046728968 -0.16666666530054713 -0.4714045196418264; -9.39131210861688e-10 0.9428090416431367 -0.33333333316059277]), Main.Mcifparse.Compute.SpinspaceOperation(\"\", [0.4999999998173631 -0.8660253958431909 0.0; 0.8660254117256865 0.500000000182637 0.0; 5.891277927463373e-17 -1.0203992407443795e-16 1.0], [0.49999949999999993, 0.0, 0.5], [0.500000001538849 -0.8660254028959841 3.1088475857796106e-10; -0.28867513518407956 -0.16666666735236443 0.9428090412804232; -0.8164965797770403 -0.471404522180797 -0.33333333418650196]), Main.Mcifparse.Compute.SpinspaceOperation(\"\", [0.4999999998173631 -0.8660253958431909 0.0; 0.8660254117256865 0.500000000182637 0.0; 5.891277927463373e-17 -1.0203992407443795e-16 1.0], [0.7499994999086814, 0.43301270586284324, 0.5000000000000001], [-0.49999999999999756 -0.28867513607251083 -0.8164965804052824; 0.2886751342956227 0.8333333326529226 -0.4714045221770556; 0.8164965810335071 -0.4714045210889386 -0.33333333265292]), Main.Mcifparse.Compute.SpinspaceOperation(\"\", [-0.5000000001826369 -0.8660253958431909 0.0; 0.8660254117256865 -0.499999999817363 0.0; 1.6421680116352321e-24 -2.040798491218304e-16 1.0], [0.4999992498173632, 0.8660249787129806, 1.0000000000000002], [-0.5000000000000079 -0.8660254037844338 -3.1734791730831043e-10; 0.8660254037844339 -0.5000000000000079 1.6265928109355909e-9; -1.567344655819642e-9 5.384650457903544e-10 1.0]), Main.Mcifparse.Compute.SpinspaceOperation(\"\", [-0.5000000001826369 -0.8660253958431909 0.0; 0.8660254117256865 -0.499999999817363 0.0; 1.6421680116352321e-24 -2.040798491218304e-16 1.0], [0.24999924990868153, 0.4330122728501373, 1.0], [-0.49999999999999795 0.2886751342956074 0.8164965810335122; -0.2886751360725232 0.833333332652924 -0.47140452108892766; -0.816496580405278 -0.47140452217706147 -0.333333332652922])  …  Main.Mcifparse.Compute.SpinspaceOperation(\"\", [-0.5000000001826369 0.8660253956323 0.0; 0.8660254117256865 0.500000000182637 0.0; 1.1782555690709944e-16 2.0407984914667874e-16 -1.0], [0.5, 0.0, 2.945638881623285e-17], [-0.500000000000007 0.8660254037844336 -1.5673441365777868e-9; -0.28867513607253015 -0.16666666581352244 0.9428090412804228; -0.8164965804052691 -0.4714045210926719 -0.33333333418650174]), Main.Mcifparse.Compute.SpinspaceOperation(\"\", [-0.5000000001826369 0.8660253956323 0.0; 0.8660254117256865 0.500000000182637 0.0; 1.1782555690709944e-16 2.0407984914667874e-16 -1.0], [-0.25000000009131845, 0.43301270586284324, 2.945638963731686e-17], [-0.4999999999999865 -0.2886751360725295 -0.8164965804052821; 0.8660254037844456 -0.16666666581349426 -0.47140452109265946; -1.5673608097649433e-9 0.9428090412804273 -0.3333333341864873]), Main.Mcifparse.Compute.SpinspaceOperation(\"\", [0.4999999998173631 0.8660253960540819 0.0; 0.8660254117256865 -0.499999999817363 0.0; 1.7673833453956515e-16 1.0203992412413466e-16 -1.0], [-0.49999975018263665, 0.8660249787129806, 0.5000000000000001], [0.4999999984611671 0.8660254046728844 -9.391158691645072e-10; 0.8660254046728846 -0.4999999984611668 1.6265942798187725e-9; -9.391140367946564e-10 1.6265953381383805e-9 0.9999999999999999]), Main.Mcifparse.Compute.SpinspaceOperation(\"\", [0.4999999998173631 0.8660253960540819 0.0; 0.8660254117256865 -0.499999999817363 0.0; 1.7673833453956515e-16 1.0203992412413466e-16 -1.0], [0.2500002499086818, 0.4330122728501373, 0.5000000000000001], [-0.49999999999998673 0.28867513429562963 0.8164965810335112; -0.8660254037844468 -0.1666666668393886 -0.4714045207299507; -3.173270544857891e-10 0.942809041643136 -0.33333333316059405]), Main.Mcifparse.Compute.SpinspaceOperation(\"\", [0.4999999998173631 0.8660253960540819 0.0; 0.8660254117256865 -0.499999999817363 0.0; 1.7673833453956515e-16 1.0203992412413466e-16 -1.0], [2.498173633316862e-7, 0.8660249787129806, 0.5000000000000001], [-0.5000000000000083 -0.8660254037844339 -3.1734308403314736e-10; 0.28867513429562963 -0.16666666683941606 0.9428090416431313; 0.8164965810334988 -0.47140452072996414 -0.33333333316060737]), Main.Mcifparse.Compute.SpinspaceOperation(\"\", [0.4999999998173631 0.8660253960540819 0.0; 0.8660254117256865 -0.499999999817363 0.0; 1.7673833453956515e-16 1.0203992412413466e-16 -1.0], [-0.24999975009131833, 0.4330122728501373, 0.5], [0.5000000015388385 -0.2886751351840617 -0.8164965797770526; -0.288675135184073 0.8333333321399747 -0.47140452253976484; -0.8164965797770491 -0.47140452253977205 -0.33333333367881296]), Main.Mcifparse.Compute.SpinspaceOperation(\"\", [1.0 4.217819427054792e-10 0.0; 0.0 -1.0 0.0; 1.178255552649314e-16 2.484832965355665e-26 -1.0], [0.49999999981736337, 0.8660245457002747, 1.0000000000000002], [-1.0 -1.776901127352356e-9 -1.2564584879791292e-9; -1.7769011273523564e-9 0.9999999999999997 1.045971344055716e-16; -1.256458487979129e-9 1.9904823768122252e-18 1.0]), Main.Mcifparse.Compute.SpinspaceOperation(\"\", [1.0 4.217819427054792e-10 0.0; 0.0 -1.0 0.0; 1.178255552649314e-16 2.484832965355665e-26 -1.0], [0.24999999990868174, 0.4330118398374314, 1.0], [-1.004303162364815e-14 -0.5773502677119137 0.8164965819726259; 0.5773502694888145 -0.6666666673470907 -0.4714045194623368; -0.8164965807161674 -0.4714045216385872 -0.33333333265291937]), Main.Mcifparse.Compute.SpinspaceOperation(\"\", [1.0 4.217819427054792e-10 0.0; 0.0 -1.0 0.0; 1.178255552649314e-16 2.484832965355665e-26 -1.0], [-1.8263672296214837e-10, 0.8660245457002747, 1.0], [1.0 3.269154248756429e-16 -4.623282290621999e-16; 3.2691542452804743e-16 0.33333333469417536 0.9428090411009333; -4.623282289782718e-16 0.9428090411009329 -0.3333333346941751]), Main.Mcifparse.Compute.SpinspaceOperation(\"\", [1.0 4.217819427054792e-10 0.0; 0.0 -1.0 0.0; 1.178255552649314e-16 2.484832965355665e-26 -1.0], [0.7499999999086818, 0.4330118398374314, 1.0], [-1.1086182608595379e-14 0.5773502694888144 -0.8164965807161673; -0.5773502677119137 -0.6666666673470909 -0.47140452163858665; 0.8164965819726264 -0.4714045194623359 -0.33333333265292])], 3, [0.0, 0.0])"
      ]
     },
     "execution_count": 78,
     "metadata": {},
     "output_type": "execute_result"
    }
   ],
   "source": [
    "magname = \"examples/CoTa3S6.mcif\"\n",
    "symdat = Mcifparse.get_spinspacegroup(magname)\n",
    "# symdat = Mcifparse.get_shubnikovgroup(magname)"
   ]
  },
  {
   "cell_type": "markdown",
   "metadata": {},
   "source": [
    "### Conductivity tensor\n",
    "\n",
    "The obtained matrix is 3 by 3 given by \n",
    "$$ J_a = \\sigma_{ab} E_b.$$\n",
    "$0.5 \\chi_{J1:J1} + 0.5 \\chi_{J2:J2}$ indicates \n",
    "$$ \\sigma_{xx} = \\sigma_{yy},$$\n",
    "while $0.5 \\chi_{J1:J2} - 0.5 \\chi_{J2:J1}$ indicates \n",
    "$$ \\sigma_{xy} = - \\sigma_{yx},$$\n",
    "that is anomalous Hall effect.\n"
   ]
  },
  {
   "cell_type": "code",
   "execution_count": 47,
   "metadata": {},
   "outputs": [
    {
     "data": {
      "text/latex": [
       "$\\left[ \\begin{array}{rrr}0.5 χ_{J1;J1} + 0.5 χ_{J2;J2}&0.5 χ_{J1;J2} - 0.5 χ_{J2;J1}&0\\\\- 0.5 χ_{J1;J2} + 0.5 χ_{J2;J1}&0.5 χ_{J1;J1} + 0.5 χ_{J2;J2}&0\\\\0&0&1.0 χ_{J3;J3}\\end{array}\\right]$\n"
      ],
      "text/plain": [
       "3×3 Matrix{SymPy.Sym}:\n",
       "  0.5⋅χ_{J1;J1} + 0.5⋅χ_{J2;J2}  0.5⋅χ_{J1;J2} - 0.5⋅χ_{J2;J1}              0\n",
       " -0.5⋅χ_{J1;J2} + 0.5⋅χ_{J2;J1}  0.5⋅χ_{J1;J1} + 0.5⋅χ_{J2;J2}              0\n",
       "                              0                              0  1.0⋅χ_{J3;J3}"
      ]
     },
     "metadata": {},
     "output_type": "display_data"
    }
   ],
   "source": [
    "Mcifparse.conductivity(symdat...)"
   ]
  },
  {
   "cell_type": "markdown",
   "metadata": {},
   "source": [
    "### Spin and Orbital magnetization"
   ]
  },
  {
   "cell_type": "code",
   "execution_count": 51,
   "metadata": {},
   "outputs": [
    {
     "data": {
      "text/latex": [
       "$\\left[ \\begin{array}{r}0\\\\0\\\\0\\end{array} \\right]$\n"
      ],
      "text/plain": [
       "3-element Vector{SymPy.Sym}:\n",
       " 0\n",
       " 0\n",
       " 0"
      ]
     },
     "metadata": {},
     "output_type": "display_data"
    }
   ],
   "source": [
    "# uniform spin magnetization\n",
    "Mcifparse.magnetization_sp(symdat...)"
   ]
  },
  {
   "cell_type": "code",
   "execution_count": 53,
   "metadata": {},
   "outputs": [
    {
     "data": {
      "text/latex": [
       "$\\left[ \\begin{array}{r}0\\\\0\\\\1.0 χ_{O3}\\end{array} \\right]$\n"
      ],
      "text/plain": [
       "3-element Vector{SymPy.Sym}:\n",
       "          0\n",
       "          0\n",
       " 1.0⋅χ_{O3}"
      ]
     },
     "metadata": {},
     "output_type": "display_data"
    }
   ],
   "source": [
    "# uniform orbital magnetization\n",
    "Mcifparse.magnetization_orb(symdat...)"
   ]
  },
  {
   "cell_type": "markdown",
   "metadata": {},
   "source": [
    "### Spin and Orbital magnetoelectric effect\n",
    "\n",
    "Coefficients with the superscript of \"e\" (\"m\") indicates the T-even (T-odd) part.\n",
    "\n",
    "In CoTa3S6 with SOC effect, the T-even (electric) such as $\\tau_{xx}^e = \\tau_{yy}^e$ comes from the noncentrosymmetric crystal structure, and T-odd (magnetic) such as $\\tau_{xy}^m = -\\tau_{yx}^m$ from the noncoplanar magnetic order.\n"
   ]
  },
  {
   "cell_type": "code",
   "execution_count": 75,
   "metadata": {},
   "outputs": [
    {
     "data": {
      "text/latex": [
       "$\\left[ \\begin{array}{rrr}0&0&0\\\\0&0&0\\\\0&0&0\\end{array}\\right]$\n"
      ],
      "text/plain": [
       "3×3 Matrix{SymPy.Sym}:\n",
       " 0  0  0\n",
       " 0  0  0\n",
       " 0  0  0"
      ]
     },
     "metadata": {},
     "output_type": "display_data"
    },
    {
     "data": {
      "text/latex": [
       "$\\left[ \\begin{array}{rrr}0&0&0\\\\0&0&0\\\\0&0&0\\end{array}\\right]$\n"
      ],
      "text/plain": [
       "3×3 Matrix{SymPy.Sym}:\n",
       " 0  0  0\n",
       " 0  0  0\n",
       " 0  0  0"
      ]
     },
     "metadata": {},
     "output_type": "display_data"
    }
   ],
   "source": [
    "# spin magnetoelectric effect\n",
    "Mcifparse.magnetoelectricity_sp(symdat...)"
   ]
  },
  {
   "cell_type": "code",
   "execution_count": 74,
   "metadata": {},
   "outputs": [
    {
     "data": {
      "text/latex": [
       "$\\left[ \\begin{array}{rrr}0.5 τ^{e}_{O1;E1} + 0.5 τ^{e}_{O2;E2}&0&0\\\\0&0.5 τ^{e}_{O1;E1} + 0.5 τ^{e}_{O2;E2}&0\\\\0&0&1.0 τ^{e}_{O3;E3}\\end{array}\\right]$\n"
      ],
      "text/plain": [
       "3×3 Matrix{SymPy.Sym}:\n",
       " 0.5⋅τ_{O1;E1}__{e} + 0.5⋅τ_{O2;E2}__{e}  …                  0\n",
       "                                     0                     0\n",
       "                                     0     1.0⋅τ_{O3;E3}__{e}"
      ]
     },
     "metadata": {},
     "output_type": "display_data"
    },
    {
     "data": {
      "text/latex": [
       "$\\left[ \\begin{array}{rrr}0&0.5 τ^{m}_{O1;E2} - 0.5 τ^{m}_{O2;E1}&0\\\\- 0.5 τ^{m}_{O1;E2} + 0.5 τ^{m}_{O2;E1}&0&0\\\\0&0&0\\end{array}\\right]$\n"
      ],
      "text/plain": [
       "3×3 Matrix{SymPy.Sym}:\n",
       "                                      0  …  0\n",
       " -0.5⋅τ_{O1;E2}__{m} + 0.5⋅τ_{O2;E1}__{m}     0\n",
       "                                      0     0"
      ]
     },
     "metadata": {},
     "output_type": "display_data"
    }
   ],
   "source": [
    "# orbital magnetoelectric effect\n",
    "Mcifparse.magnetoelectricity_orb(symdat...)"
   ]
  },
  {
   "cell_type": "markdown",
   "metadata": {},
   "source": [
    "## Mn3Sn\n",
    "\n",
    "The `.mcif` file is not prepared in the repository to adhere the irreducibility of open resource provided in Bilbao crystallographic server. \n",
    "Please get the corresponding `mcif` file in MAGNDATA (http://webbdcrista1.ehu.es/magndata/index.php?this_label=0.199).\n",
    "Note that the convention for the domain state is modified in `H. Watanabe et al., arXiv:2307.11560` so as to allow for the weak ferromagnetic moment along the $x$-direction in the SOC-coupled case."
   ]
  },
  {
   "cell_type": "code",
   "execution_count": 92,
   "metadata": {},
   "outputs": [
    {
     "data": {
      "text/plain": [
       "(Main.Mcifparse.Compute.SpinspaceOperation[Main.Mcifparse.Compute.SpinspaceOperation(\"\", [1.0 -0.0 0.0; 0.0 1.0 0.0; 0.0 0.0 1.0], [0.0, 0.0, 0.0], [1.0 -0.0 0.0; 0.0 1.0 0.0; 0.0 0.0 1.0]), Main.Mcifparse.Compute.SpinspaceOperation(\"\", [-1.0 0.0 0.0; -0.0 -1.0 0.0; 0.0 -0.0 -1.0], [2.220446049250313e-16, 3.8459253727671276e-16, 6.799655732577036e-32], [1.0 -0.0 0.0; 0.0 1.0 0.0; 0.0 0.0 1.0]), Main.Mcifparse.Compute.SpinspaceOperation(\"\", [0.5 -0.8660254 0.0; 0.8660254 0.5 0.0; -0.0 0.0 1.0], [2.2204460492503128e-16, 0.0, 0.5], [-0.5 -0.86603 0.0; 0.86603 -0.5 0.0; 0.0 0.0 1.0]), Main.Mcifparse.Compute.SpinspaceOperation(\"\", [-0.5 0.8660254 0.0; -0.8660254 -0.5 0.0; 0.0 -0.0 -1.0], [2.4651903288156616e-32, 3.8459253727671276e-16, 0.5], [-0.5 -0.86603 0.0; 0.86603 -0.5 0.0; 0.0 0.0 1.0]), Main.Mcifparse.Compute.SpinspaceOperation(\"\", [-0.5 -0.8660254 0.0; 0.8660254 -0.5 0.0; -0.0 0.0 1.0], [3.330669073875469e-16, 1.9229626863835638e-16, 5.099741799432778e-32], [-0.5 0.86603 0.0; -0.86603 -0.5 0.0; 0.0 0.0 1.0]), Main.Mcifparse.Compute.SpinspaceOperation(\"\", [0.5 0.8660254 0.0; -0.8660254 0.5 0.0; 0.0 -0.0 -1.0], [-1.1102230246251563e-16, 1.9229626863835638e-16, 1.6999139331442593e-32], [-0.5 0.86603 0.0; -0.86603 -0.5 0.0; 0.0 0.0 1.0]), Main.Mcifparse.Compute.SpinspaceOperation(\"\", [-1.0 0.0 0.0; -0.0 -1.0 0.0; -0.0 0.0 1.0], [2.220446049250313e-16, 3.8459253727671276e-16, 0.5], [1.0 -0.0 0.0; 0.0 1.0 0.0; 0.0 0.0 1.0]), Main.Mcifparse.Compute.SpinspaceOperation(\"\", [1.0 -0.0 0.0; 0.0 1.0 0.0; 0.0 -0.0 -1.0], [0.0, 0.0, 0.5], [1.0 -0.0 0.0; 0.0 1.0 0.0; 0.0 0.0 1.0]), Main.Mcifparse.Compute.SpinspaceOperation(\"\", [-0.5 0.8660254 0.0; -0.8660254 -0.5 0.0; 0.0 0.0 1.0], [2.4651903288156616e-32, 3.8459253727671276e-16, 5.099741799432778e-32], [-0.5 -0.86603 0.0; 0.86603 -0.5 0.0; 0.0 0.0 1.0]), Main.Mcifparse.Compute.SpinspaceOperation(\"\", [0.5 -0.8660254 0.0; 0.8660254 0.5 -0.0; -0.0 -0.0 -1.0], [2.2204460492503128e-16, 0.0, 1.0], [-0.5 -0.86603 0.0; 0.86603 -0.5 0.0; 0.0 0.0 1.0])  …  Main.Mcifparse.Compute.SpinspaceOperation(\"\", [1.0 -0.0 0.0; -0.0 -1.0 0.0; 0.0 -0.0 -1.0], [3.330669073875469e-16, 1.9229626863835638e-16, 5.099741799432778e-32], [1.0 -0.0 -0.0; -0.0 -1.0 -0.0; -0.0 0.0 -1.0]), Main.Mcifparse.Compute.SpinspaceOperation(\"\", [-1.0 0.0 0.0; 0.0 1.0 0.0; -0.0 0.0 1.0], [-1.1102230246251563e-16, 1.9229626863835638e-16, 1.6999139331442593e-32], [1.0 -0.0 -0.0; -0.0 -1.0 -0.0; -0.0 0.0 -1.0]), Main.Mcifparse.Compute.SpinspaceOperation(\"\", [0.5 -0.8660254 0.0; -0.8660254 -0.5 0.0; 0.0 -0.0 -1.0], [2.2204460492503128e-16, 0.0, 0.5], [-0.5 -0.86603 -0.0; -0.86603 0.5 -0.0; 0.0 -0.0 -1.0]), Main.Mcifparse.Compute.SpinspaceOperation(\"\", [-0.5 0.8660254 0.0; 0.8660254 0.5 0.0; -0.0 0.0 1.0], [2.4651903288156616e-32, 3.8459253727671276e-16, 0.5], [-0.5 -0.86603 -0.0; -0.86603 0.5 -0.0; 0.0 -0.0 -1.0]), Main.Mcifparse.Compute.SpinspaceOperation(\"\", [-0.5 -0.8660254 0.0; -0.8660254 0.5 0.0; 0.0 -0.0 -1.0], [0.0, 0.0, 0.0], [-0.5 0.86603 -0.0; 0.86603 0.5 -0.0; -0.0 -0.0 -1.0]), Main.Mcifparse.Compute.SpinspaceOperation(\"\", [0.5 0.8660254 0.0; 0.8660254 -0.5 0.0; -0.0 0.0 1.0], [2.220446049250313e-16, 3.8459253727671276e-16, 6.799655732577036e-32], [-0.5 0.86603 -0.0; 0.86603 0.5 -0.0; -0.0 -0.0 -1.0]), Main.Mcifparse.Compute.SpinspaceOperation(\"\", [-1.0 0.0 0.0; 0.0 1.0 0.0; -0.0 -0.0 -1.0], [-1.1102230246251563e-16, 1.9229626863835638e-16, 0.5], [1.0 -0.0 -0.0; -0.0 -1.0 -0.0; -0.0 0.0 -1.0]), Main.Mcifparse.Compute.SpinspaceOperation(\"\", [1.0 -0.0 0.0; -0.0 -1.0 0.0; 0.0 0.0 1.0], [3.330669073875469e-16, 1.9229626863835638e-16, 0.5], [1.0 -0.0 -0.0; -0.0 -1.0 -0.0; -0.0 0.0 -1.0]), Main.Mcifparse.Compute.SpinspaceOperation(\"\", [-0.5 0.8660254 0.0; 0.8660254 0.5 -0.0; -0.0 -0.0 -1.0], [2.4651903288156616e-32, 3.8459253727671276e-16, 5.099741799432778e-32], [-0.5 -0.86603 -0.0; -0.86603 0.5 -0.0; 0.0 -0.0 -1.0]), Main.Mcifparse.Compute.SpinspaceOperation(\"\", [0.5 -0.8660254 0.0; -0.8660254 -0.5 0.0; 0.0 0.0 1.0], [2.2204460492503128e-16, 0.0, 1.0], [-0.5 -0.86603 -0.0; -0.86603 0.5 -0.0; 0.0 -0.0 -1.0])], 2, [-5.293955920339377e-22, 0.4873394479503177])"
      ]
     },
     "execution_count": 92,
     "metadata": {},
     "output_type": "execute_result"
    }
   ],
   "source": [
    "magname = \"****\" # path for imported .mcif file\n",
    "\n",
    "opsets, spindim, purespinaxis_args = Mcifparse.get_spinspacegroup(magname);\n",
    "# opsets, spindim, purespinaxis_args = Mcifparse.get_shubnikovgroup(magname)\n",
    "\n",
    "spinrot = [\n",
    "        -1/2 sqrt(3)/2 0 ;\n",
    "         -sqrt(3)/2 -1/2 0;\n",
    "         0 0 1;\n",
    "         ]\n",
    "\n",
    "opsetsrev = Vector{Mcifparse.SpinspaceOperation}([])\n",
    "for op in opsets\n",
    "    push!(opsetsrev,Mcifparse.SpinspaceOperation(op.pgname, round.(spinrot*op.pgmat*inv(spinrot),digits=8),op.trans,round.(spinrot*op.spmat*inv(spinrot),digits=5))) # convert spin order to [100] ferromag\n",
    "\n",
    "end\n",
    "symdat = opsetsrev, spindim, purespinaxis_args\n",
    "\n"
   ]
  },
  {
   "cell_type": "markdown",
   "metadata": {},
   "source": [
    "### Spin- and Orbital-polarized current induced by electric fields\n",
    "\n",
    "The coefficient $\\tau_{Jasb;Ec}$ denote the response\n",
    "$$ J_a^{s_b} = \\sigma_{ac}^b E_c,$$\n",
    "where the electric field along $c$ induces the $b$-polarized spin current flowing in $a$-direction.\n",
    "\n",
    "Similarly, $\\tau_{Jaob;Ec}$ is for response with $b$-polarized orbital current.\n",
    "\n",
    "Response with the superscript \"e\" (\"m\") is T-even (E-odd) response. \n"
   ]
  },
  {
   "cell_type": "code",
   "execution_count": 93,
   "metadata": {},
   "outputs": [
    {
     "data": {
      "text/latex": [
       "$\\left[ \\begin{array}{rrr}0&0&0\\\\0&0&0\\\\0&0&0\\end{array}\\right]$\n"
      ],
      "text/plain": [
       "3×3 Matrix{SymPy.Sym}:\n",
       " 0  0  0\n",
       " 0  0  0\n",
       " 0  0  0"
      ]
     },
     "metadata": {},
     "output_type": "display_data"
    },
    {
     "data": {
      "text/latex": [
       "$\\left[ \\begin{array}{rrr}0.25 τ^{m}_{J1s1;E1} + 0.25 τ^{m}_{J1s2;E2} - 0.25 τ^{m}_{J2s1;E2} + 0.25 τ^{m}_{J2s2;E1}&0&0\\\\0&- 0.25 τ^{m}_{J1s1;E1} - 0.25 τ^{m}_{J1s2;E2} + 0.25 τ^{m}_{J2s1;E2} - 0.25 τ^{m}_{J2s2;E1}&0\\\\0&0&0\\end{array}\\right]$\n"
      ],
      "text/plain": [
       "3×3 Matrix{SymPy.Sym}:\n",
       " 0.25*τ^{m}_{J1s1;E1} + 0.25*τ^{m}_{J1s2;E2} - 0.25*τ^{m}_{J2s1;E2} + 0.25*τ^{m}_{J2s2;E1}  …  0\n",
       "                                                                                         0     0\n",
       "                                                                                         0     0"
      ]
     },
     "metadata": {},
     "output_type": "display_data"
    },
    {
     "data": {
      "text/latex": [
       "$\\left[ \\begin{array}{rrr}0&0&0\\\\0&0&0\\\\0&0&0\\end{array}\\right]$\n"
      ],
      "text/plain": [
       "3×3 Matrix{SymPy.Sym}:\n",
       " 0  0  0\n",
       " 0  0  0\n",
       " 0  0  0"
      ]
     },
     "metadata": {},
     "output_type": "display_data"
    },
    {
     "data": {
      "text/latex": [
       "$\\left[ \\begin{array}{rrr}0&0.25 τ^{m}_{J1s1;E1} + 0.25 τ^{m}_{J1s2;E2} - 0.25 τ^{m}_{J2s1;E2} + 0.25 τ^{m}_{J2s2;E1}&0\\\\0.25 τ^{m}_{J1s1;E1} + 0.25 τ^{m}_{J1s2;E2} - 0.25 τ^{m}_{J2s1;E2} + 0.25 τ^{m}_{J2s2;E1}&0&0\\\\0&0&0\\end{array}\\right]$\n"
      ],
      "text/plain": [
       "3×3 Matrix{SymPy.Sym}:\n",
       "                                                                                         0  …  0\n",
       " 0.25*τ^{m}_{J1s1;E1} + 0.25*τ^{m}_{J1s2;E2} - 0.25*τ^{m}_{J2s1;E2} + 0.25*τ^{m}_{J2s2;E1}     0\n",
       "                                                                                         0     0"
      ]
     },
     "metadata": {},
     "output_type": "display_data"
    },
    {
     "data": {
      "text/latex": [
       "$\\left[ \\begin{array}{rrr}0&0.5 τ^{e}_{J1s3;E2} - 0.5 τ^{e}_{J2s3;E1}&0\\\\- 0.5 τ^{e}_{J1s3;E2} + 0.5 τ^{e}_{J2s3;E1}&0&0\\\\0&0&0\\end{array}\\right]$\n"
      ],
      "text/plain": [
       "3×3 Matrix{SymPy.Sym}:\n",
       "                                          0  …  0\n",
       " -0.5⋅τ_{J1s3;E2}__{e} + 0.5⋅τ_{J2s3;E1}__{e}     0\n",
       "                                          0     0"
      ]
     },
     "metadata": {},
     "output_type": "display_data"
    },
    {
     "data": {
      "text/latex": [
       "$\\left[ \\begin{array}{rrr}0&0&0\\\\0&0&0\\\\0&0&0\\end{array}\\right]$\n"
      ],
      "text/plain": [
       "3×3 Matrix{SymPy.Sym}:\n",
       " 0  0  0\n",
       " 0  0  0\n",
       " 0  0  0"
      ]
     },
     "metadata": {},
     "output_type": "display_data"
    }
   ],
   "source": [
    "# spin case\n",
    "Mcifparse.E_to_spincurrent(symdat...)"
   ]
  },
  {
   "cell_type": "code",
   "execution_count": 94,
   "metadata": {},
   "outputs": [
    {
     "data": {
      "text/latex": [
       "$\\left[ \\begin{array}{rrr}0&0&0\\\\0&0&- 0.5 τ^{e}_{J1o2;E3} + 0.5 τ^{e}_{J2o1;E3}\\\\0&0.5 τ^{e}_{J3o1;E2} - 0.5 τ^{e}_{J3o2;E1}&0\\end{array}\\right]$\n"
      ],
      "text/plain": [
       "3×3 Matrix{SymPy.Sym}:\n",
       " 0  …                                           0\n",
       " 0     -0.5⋅τ_{J1o2;E3}__{e} + 0.5⋅τ_{J2o1;E3}__{e}\n",
       " 0                                              0"
      ]
     },
     "metadata": {},
     "output_type": "display_data"
    },
    {
     "data": {
      "text/latex": [
       "$\\left[ \\begin{array}{rrr}0&0&0\\\\0&0&0\\\\0&0&0\\end{array}\\right]$\n"
      ],
      "text/plain": [
       "3×3 Matrix{SymPy.Sym}:\n",
       " 0  0  0\n",
       " 0  0  0\n",
       " 0  0  0"
      ]
     },
     "metadata": {},
     "output_type": "display_data"
    },
    {
     "data": {
      "text/latex": [
       "$\\left[ \\begin{array}{rrr}0&0&0.5 τ^{e}_{J1o2;E3} - 0.5 τ^{e}_{J2o1;E3}\\\\0&0&0\\\\- 0.5 τ^{e}_{J3o1;E2} + 0.5 τ^{e}_{J3o2;E1}&0&0\\end{array}\\right]$\n"
      ],
      "text/plain": [
       "3×3 Matrix{SymPy.Sym}:\n",
       "                                          0  …  0.5⋅τ_{J1o2;E3}__{e} - 0.5⋅τ_{J2o1;E3}__{e}\n",
       "                                          0                                             0\n",
       " -0.5⋅τ_{J3o1;E2}__{e} + 0.5⋅τ_{J3o2;E1}__{e}                                             0"
      ]
     },
     "metadata": {},
     "output_type": "display_data"
    },
    {
     "data": {
      "text/latex": [
       "$\\left[ \\begin{array}{rrr}0&0&0\\\\0&0&0\\\\0&0&0\\end{array}\\right]$\n"
      ],
      "text/plain": [
       "3×3 Matrix{SymPy.Sym}:\n",
       " 0  0  0\n",
       " 0  0  0\n",
       " 0  0  0"
      ]
     },
     "metadata": {},
     "output_type": "display_data"
    },
    {
     "data": {
      "text/latex": [
       "$\\left[ \\begin{array}{rrr}0&0.5 τ^{e}_{J1o3;E2} - 0.5 τ^{e}_{J2o3;E1}&0\\\\- 0.5 τ^{e}_{J1o3;E2} + 0.5 τ^{e}_{J2o3;E1}&0&0\\\\0&0&0\\end{array}\\right]$\n"
      ],
      "text/plain": [
       "3×3 Matrix{SymPy.Sym}:\n",
       "                                          0  …  0\n",
       " -0.5⋅τ_{J1o3;E2}__{e} + 0.5⋅τ_{J2o3;E1}__{e}     0\n",
       "                                          0     0"
      ]
     },
     "metadata": {},
     "output_type": "display_data"
    },
    {
     "data": {
      "text/latex": [
       "$\\left[ \\begin{array}{rrr}0&0&0\\\\0&0&0\\\\0&0&0\\end{array}\\right]$\n"
      ],
      "text/plain": [
       "3×3 Matrix{SymPy.Sym}:\n",
       " 0  0  0\n",
       " 0  0  0\n",
       " 0  0  0"
      ]
     },
     "metadata": {},
     "output_type": "display_data"
    }
   ],
   "source": [
    "# orbital case\n",
    "Mcifparse.E_to_orbitalcurrent(symdat...)"
   ]
  },
  {
   "cell_type": "markdown",
   "metadata": {},
   "source": [
    "## Cr2O3"
   ]
  },
  {
   "cell_type": "code",
   "execution_count": 98,
   "metadata": {},
   "outputs": [
    {
     "data": {
      "text/plain": [
       "(Main.Mcifparse.Compute.SpinspaceOperation[Main.Mcifparse.Compute.SpinspaceOperation(\"\", [1.0 0.0 0.0; 0.0 1.0 0.0; 0.0 0.0 1.0], [0.0, 0.0, 0.0], [1.0 0.0 0.0; 0.0 1.0 0.0; 0.0 0.0 1.0]), Main.Mcifparse.Compute.SpinspaceOperation(\"\", [1.0 0.0 0.0; 0.0 1.0 0.0; 0.0 0.0 1.0], [1.2952601953960158e-16, 0.5773502691896257, 0.6666666666666666], [1.0 0.0 0.0; 0.0 1.0 0.0; 0.0 0.0 1.0]), Main.Mcifparse.Compute.SpinspaceOperation(\"\", [1.0 0.0 0.0; 0.0 1.0 0.0; 0.0 0.0 1.0], [0.5000000000000001, 0.28867513459481287, 0.3333333333333333], [1.0 0.0 0.0; 0.0 1.0 0.0; 0.0 0.0 1.0]), Main.Mcifparse.Compute.SpinspaceOperation(\"\", [-1.0 0.0 0.0; 0.0 -1.0 0.0; 0.0 0.0 -1.0], [0.4999999999999997, 0.8660254037844384, 0.9999999999999997], [1.0 0.0 0.0; 0.0 1.0 0.0; 0.0 0.0 -1.0]), Main.Mcifparse.Compute.SpinspaceOperation(\"\", [-1.0 0.0 0.0; 0.0 -1.0 0.0; 0.0 0.0 -1.0], [-3.145631903104611e-16, 0.5773502691896255, 0.6666666666666663], [1.0 0.0 0.0; 0.0 1.0 0.0; 0.0 0.0 -1.0]), Main.Mcifparse.Compute.SpinspaceOperation(\"\", [-1.0 0.0 0.0; 0.0 -1.0 0.0; 0.0 0.0 -1.0], [0.4999999999999996, 0.28867513459481264, 0.33333333333333304], [1.0 0.0 0.0; 0.0 1.0 0.0; 0.0 0.0 -1.0]), Main.Mcifparse.Compute.SpinspaceOperation(\"\", [-0.4999999999999999 -0.8660254037844386 0.0; 0.8660254037844387 -0.5000000000000001 0.0; 0.0 -7.737621276185964e-17 1.0], [0.9999999999999996, 1.6619849827388353e-48, 1.0], [1.0 0.0 0.0; 0.0 1.0 0.0; 0.0 0.0 1.0]), Main.Mcifparse.Compute.SpinspaceOperation(\"\", [-0.4999999999999999 -0.8660254037844386 0.0; 0.8660254037844387 -0.5000000000000001 0.0; 0.0 -7.737621276185964e-17 1.0], [-3.1456319031046104e-16, 0.5773502691896257, 0.6666666666666666], [1.0 0.0 0.0; 0.0 1.0 0.0; 0.0 0.0 1.0]), Main.Mcifparse.Compute.SpinspaceOperation(\"\", [-0.4999999999999999 -0.8660254037844386 0.0; 0.8660254037844387 -0.5000000000000001 0.0; 0.0 -7.737621276185964e-17 1.0], [0.49999999999999967, 0.28867513459481287, 0.3333333333333333], [1.0 0.0 0.0; 0.0 1.0 0.0; 0.0 0.0 1.0]), Main.Mcifparse.Compute.SpinspaceOperation(\"\", [0.4999999999999999 0.8660254037844386 0.0; -0.8660254037844387 0.5000000000000001 0.0; 0.0 7.737621276185964e-17 -1.0], [0.5000000000000001, 0.8660254037844384, 0.9999999999999997], [1.0 0.0 0.0; 0.0 1.0 0.0; 0.0 0.0 -1.0])  …  Main.Mcifparse.Compute.SpinspaceOperation(\"\", [1.0 -2.220446049250313e-16 0.0; 0.0 -1.0 0.0; 4.467317726693342e-17 -6.162975822039155e-33 -1.0], [0.5000000000000001, 0.2886751345948125, 0.833333333333333], [0.9968348233803533 0.07950053393694786 1.1749587563668263e-16; 0.07950053393694786 -0.9968348233803535 1.2723959628042824e-16; 1.2723959628042824e-16 -1.1749587563668263e-16 -1.0]), Main.Mcifparse.Compute.SpinspaceOperation(\"\", [-1.0 2.220446049250313e-16 0.0; 0.0 1.0 0.0; -4.467317726693342e-17 6.162975822039155e-33 1.0], [0.49999999999999983, 0.8660254037844386, 0.5], [0.9968348233803533 0.07950053393694786 -1.1749587563668263e-16; 0.07950053393694786 -0.9968348233803535 -1.2723959628042824e-16; 1.2723959628042824e-16 -1.1749587563668263e-16 1.0]), Main.Mcifparse.Compute.SpinspaceOperation(\"\", [-1.0 2.220446049250313e-16 0.0; 0.0 1.0 0.0; -4.467317726693342e-17 6.162975822039155e-33 1.0], [-2.590520390792032e-16, 0.5773502691896257, 0.16666666666666655], [0.9968348233803533 0.07950053393694786 -1.1749587563668263e-16; 0.07950053393694786 -0.9968348233803535 -1.2723959628042824e-16; 1.2723959628042824e-16 -1.1749587563668263e-16 1.0]), Main.Mcifparse.Compute.SpinspaceOperation(\"\", [-1.0 2.220446049250313e-16 0.0; 0.0 1.0 0.0; -4.467317726693342e-17 6.162975822039155e-33 1.0], [0.4999999999999998, 0.28867513459481275, 0.8333333333333333], [0.9968348233803533 0.07950053393694786 -1.1749587563668263e-16; 0.07950053393694786 -0.9968348233803535 -1.2723959628042824e-16; 1.2723959628042824e-16 -1.1749587563668263e-16 1.0]), Main.Mcifparse.Compute.SpinspaceOperation(\"\", [-0.5000000000000001 -0.8660254037844385 0.0; -0.8660254037844387 0.5000000000000001 0.0; -2.233658863346671e-17 3.868810638092982e-17 -1.0], [0.4999999999999999, 0.8660254037844384, 0.4999999999999997], [0.9968348233803533 0.07950053393694786 1.1749587563668263e-16; 0.07950053393694786 -0.9968348233803535 1.2723959628042824e-16; 1.2723959628042824e-16 -1.1749587563668263e-16 -1.0]), Main.Mcifparse.Compute.SpinspaceOperation(\"\", [-0.5000000000000001 -0.8660254037844385 0.0; -0.8660254037844387 0.5000000000000001 0.0; -2.233658863346671e-17 3.868810638092982e-17 -1.0], [-2.0354088784794543e-16, 0.5773502691896254, 0.16666666666666632], [0.9968348233803533 0.07950053393694786 1.1749587563668263e-16; 0.07950053393694786 -0.9968348233803535 1.2723959628042824e-16; 1.2723959628042824e-16 -1.1749587563668263e-16 -1.0]), Main.Mcifparse.Compute.SpinspaceOperation(\"\", [-0.5000000000000001 -0.8660254037844385 0.0; -0.8660254037844387 0.5000000000000001 0.0; -2.233658863346671e-17 3.868810638092982e-17 -1.0], [0.49999999999999967, 0.2886751345948125, 0.833333333333333], [0.9968348233803533 0.07950053393694786 1.1749587563668263e-16; 0.07950053393694786 -0.9968348233803535 1.2723959628042824e-16; 1.2723959628042824e-16 -1.1749587563668263e-16 -1.0]), Main.Mcifparse.Compute.SpinspaceOperation(\"\", [0.5000000000000001 0.8660254037844385 0.0; 0.8660254037844387 -0.5000000000000001 0.0; 2.233658863346671e-17 -3.868810638092982e-17 1.0], [-0.4999999999999998, 0.8660254037844386, 0.5], [0.9968348233803533 0.07950053393694786 -1.1749587563668263e-16; 0.07950053393694786 -0.9968348233803535 -1.2723959628042824e-16; 1.2723959628042824e-16 -1.1749587563668263e-16 1.0]), Main.Mcifparse.Compute.SpinspaceOperation(\"\", [0.5000000000000001 0.8660254037844385 0.0; 0.8660254037844387 -0.5000000000000001 0.0; 2.233658863346671e-17 -3.868810638092982e-17 1.0], [1.850371707708594e-16, 0.5773502691896257, 0.16666666666666655], [0.9968348233803533 0.07950053393694786 -1.1749587563668263e-16; 0.07950053393694786 -0.9968348233803535 -1.2723959628042824e-16; 1.2723959628042824e-16 -1.1749587563668263e-16 1.0]), Main.Mcifparse.Compute.SpinspaceOperation(\"\", [0.5000000000000001 0.8660254037844385 0.0; 0.8660254037844387 -0.5000000000000001 0.0; 2.233658863346671e-17 -3.868810638092982e-17 1.0], [0.5000000000000002, 0.28867513459481275, 0.8333333333333333], [0.9968348233803533 0.07950053393694786 -1.1749587563668263e-16; 0.07950053393694786 -0.9968348233803535 -1.2723959628042824e-16; 1.2723959628042824e-16 -1.1749587563668263e-16 1.0])], 1, [-1.9587636905255695e-20, 1.6105885858049516])"
      ]
     },
     "execution_count": 98,
     "metadata": {},
     "output_type": "execute_result"
    }
   ],
   "source": [
    "magname = \"***\" # put the path\n",
    "symdat = Mcifparse.get_spinspacegroup(magname)\n",
    "# symdat = Mcifparse.get_shubnikovgroup(magname)\n",
    "\n"
   ]
  },
  {
   "cell_type": "markdown",
   "metadata": {},
   "source": [
    "### Spin magnetoelectricity"
   ]
  },
  {
   "cell_type": "code",
   "execution_count": 99,
   "metadata": {},
   "outputs": [
    {
     "data": {
      "text/latex": [
       "$\\left[ \\begin{array}{rrr}0&0&0\\\\0&0&0\\\\0&0&0\\end{array}\\right]$\n"
      ],
      "text/plain": [
       "3×3 Matrix{SymPy.Sym}:\n",
       " 0  0  0\n",
       " 0  0  0\n",
       " 0  0  0"
      ]
     },
     "metadata": {},
     "output_type": "display_data"
    },
    {
     "data": {
      "text/latex": [
       "$\\left[ \\begin{array}{rrr}0&0&0\\\\0&0&0\\\\0&0&1.0 τ^{m}_{S3;E3}\\end{array}\\right]$\n"
      ],
      "text/plain": [
       "3×3 Matrix{SymPy.Sym}:\n",
       " 0  0                  0\n",
       " 0  0                  0\n",
       " 0  0  1.0⋅τ_{S3;E3}__{m}"
      ]
     },
     "metadata": {},
     "output_type": "display_data"
    }
   ],
   "source": [
    "# spin magnetoelectric effect\n",
    "Mcifparse.magnetoelectricity_sp(symdat...)"
   ]
  }
 ],
 "metadata": {
  "kernelspec": {
   "display_name": "Julia 1.8.5",
   "language": "julia",
   "name": "julia-1.8"
  },
  "language_info": {
   "file_extension": ".jl",
   "mimetype": "application/julia",
   "name": "julia",
   "version": "1.8.5"
  }
 },
 "nbformat": 4,
 "nbformat_minor": 2
}
